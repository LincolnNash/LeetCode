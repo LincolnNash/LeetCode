{
 "cells": [
  {
   "cell_type": "markdown",
   "metadata": {},
   "source": [
    "## 1. 删除链表中的节点"
   ]
  },
  {
   "cell_type": "markdown",
   "metadata": {},
   "source": [
    "题目地址：https://leetcode-cn.com/explore/interview/card/top-interview-questions-easy/6/linked-list/41/"
   ]
  },
  {
   "cell_type": "code",
   "execution_count": null,
   "metadata": {},
   "outputs": [],
   "source": [
    "# Definition for singly-linked list.\n",
    "# class ListNode(object):\n",
    "#     def __init__(self, x):\n",
    "#         self.val = x\n",
    "#         self.next = None\n",
    "class Solution(object):\n",
    "    def deleteNode(self, node):\n",
    "        \"\"\"\n",
    "        :type node: ListNode\n",
    "        :rtype: void Do not return anything, modify node in-place instead.\n",
    "        \"\"\"\n",
    "        node.val = node.next.val\n",
    "        node.next = node.next.next"
   ]
  },
  {
   "cell_type": "markdown",
   "metadata": {},
   "source": [
    "## 2. 删除链表的倒数第N个节点"
   ]
  },
  {
   "cell_type": "markdown",
   "metadata": {},
   "source": [
    "题目地址：https://leetcode-cn.com/explore/interview/card/top-interview-questions-easy/6/linked-list/42/"
   ]
  },
  {
   "cell_type": "code",
   "execution_count": null,
   "metadata": {},
   "outputs": [],
   "source": [
    "# 两次遍历法\n",
    "# Definition for singly-linked list.\n",
    "# class ListNode(object):\n",
    "#     def __init__(self, x):\n",
    "#         self.val = x\n",
    "#         self.next = None\n",
    "class Solution(object):\n",
    "    def removeNthFromEnd(self, head, n):\n",
    "        \"\"\"\n",
    "        :type head: ListNode\n",
    "        :type n: int\n",
    "        :rtype: ListNode\n",
    "        \"\"\"\n",
    "        len = 0\n",
    "        LNode = ListNode(0)\n",
    "        LNode.next = head\n",
    "        temp\n",
    "        Node = head\n",
    "        while tempNode!=None:\n",
    "            len+=1\n",
    "            tempNode = tempNode.next\n",
    "        i = len - n\n",
    "        tempNode = LNode\n",
    "        while i>0:\n",
    "            i-=1\n",
    "            tempNode = tempNode.next\n",
    "        tempNode.next = tempNode.next.next\n",
    "        return LNode.next"
   ]
  },
  {
   "cell_type": "markdown",
   "metadata": {},
   "source": [
    "该解法在第一次遍历的时候得出链表的长度，第二次遍历的时删除节点"
   ]
  },
  {
   "cell_type": "code",
   "execution_count": null,
   "metadata": {},
   "outputs": [],
   "source": [
    "# 一次遍历法\n",
    "# Definition for singly-linked list.\n",
    "# class ListNode(object):\n",
    "#     def __init__(self, x):\n",
    "#         self.val = x\n",
    "#         self.next = None\n",
    "class Solution(object):\n",
    "    def removeNthFromEnd(self, head, n):\n",
    "        \"\"\"\n",
    "        :type head: ListNode\n",
    "        :type n: int\n",
    "        :rtype: ListNode\n",
    "        \"\"\"\n",
    "        LNode = ListNode(0)\n",
    "        LNode.next = head\n",
    "        slow_p = LNode\n",
    "        fast_p = LNode\n",
    "        while n > 0:\n",
    "            n-=1\n",
    "            fast_p = fast_p.next\n",
    "        while fast_p.next!=None:\n",
    "            fast_p = fast_p.next\n",
    "            slow_p = slow_p.next\n",
    "        slow_p.next = slow_p.next.next\n",
    "        return LNode.next"
   ]
  },
  {
   "cell_type": "markdown",
   "metadata": {},
   "source": [
    "该解法利用两个指针slow_p,fast_p。两指针间的间隔为n-1，移动两指针直到fast_p指针到达链表末尾，slow_p.next即为待删除节点。"
   ]
  },
  {
   "cell_type": "markdown",
   "metadata": {},
   "source": [
    "## 3. 反转链表"
   ]
  },
  {
   "cell_type": "markdown",
   "metadata": {},
   "source": [
    "题目地址：https://leetcode-cn.com/explore/interview/card/top-interview-questions-easy/6/linked-list/43/"
   ]
  },
  {
   "cell_type": "code",
   "execution_count": null,
   "metadata": {},
   "outputs": [],
   "source": [
    "# Definition for singly-linked list.\n",
    "# class ListNode(object):\n",
    "#     def __init__(self, x):\n",
    "#         self.val = x\n",
    "#         self.next = None\n",
    "#在原链表上改动空间复杂度为O(1)\n",
    "class Solution(object):\n",
    "    def reverseList(self, head):\n",
    "        \"\"\"\n",
    "        :type head: ListNode\n",
    "        :rtype: ListNode\n",
    "        \"\"\"\n",
    "        LNode=ListNode(0)\n",
    "        p = head\n",
    "        while p!=None:\n",
    "            temp = p.next\n",
    "            p.next = LNode.next\n",
    "            LNode.next = p\n",
    "            p = temp\n",
    "        return LNode.next"
   ]
  },
  {
   "cell_type": "code",
   "execution_count": null,
   "metadata": {},
   "outputs": [],
   "source": [
    "#空间复杂度为O(n)\n",
    "class Solution(object):\n",
    "    def reverseList(self, head):\n",
    "        \"\"\"\n",
    "        :type head: ListNode\n",
    "        :rtype: ListNode\n",
    "        \"\"\"\n",
    "        LNode=ListNode(0)\n",
    "        p = head\n",
    "        while p!=None:\n",
    "            temp = ListNode(p.val)\n",
    "            temp.next = LNode.next\n",
    "            LNode.next = temp\n",
    "            p = p.next\n",
    "        return LNode.next"
   ]
  },
  {
   "cell_type": "markdown",
   "metadata": {},
   "source": [
    "## 4. 合并两个有序链表"
   ]
  },
  {
   "cell_type": "markdown",
   "metadata": {},
   "source": [
    "题目地址：https://leetcode-cn.com/explore/interview/card/top-interview-questions-easy/6/linked-list/44/"
   ]
  },
  {
   "cell_type": "code",
   "execution_count": null,
   "metadata": {},
   "outputs": [],
   "source": [
    "# Definition for singly-linked list.\n",
    "# class ListNode(object):\n",
    "#     def __init__(self, x):\n",
    "#         self.val = x\n",
    "#         self.next = None\n",
    "\n",
    "class Solution(object):\n",
    "    def mergeTwoLists(self, l1, l2):\n",
    "        \"\"\"\n",
    "        :type l1: ListNode\n",
    "        :type l2: ListNode\n",
    "        :rtype: ListNode\n",
    "        \"\"\"\n",
    "        LNode = ListNode(0)\n",
    "        p = LNode\n",
    "        p_l1 = l1\n",
    "        p_l2 = l2\n",
    "        while p_l1!=None and p_l2!=None:\n",
    "            if p_l1.val<=p_l2.val:\n",
    "                p.next = p_l1\n",
    "                p = p.next\n",
    "                p_l1 = p_l1.next\n",
    "            else:\n",
    "                p.next = p_l2\n",
    "                p = p.next\n",
    "                p_l2 = p_l2.next\n",
    "        if p_l1==None:\n",
    "            p.next = p_l2\n",
    "        else:\n",
    "            p.next = p_l1\n",
    "        return LNode.next"
   ]
  },
  {
   "cell_type": "markdown",
   "metadata": {},
   "source": [
    "## 5.回文链表"
   ]
  },
  {
   "cell_type": "markdown",
   "metadata": {},
   "source": [
    "题目地址：https://leetcode-cn.com/explore/interview/card/top-interview-questions-easy/6/linked-list/45/"
   ]
  },
  {
   "cell_type": "code",
   "execution_count": null,
   "metadata": {},
   "outputs": [],
   "source": [
    "# Definition for singly-linked list.\n",
    "# class ListNode(object):\n",
    "#     def __init__(self, x):\n",
    "#         self.val = x\n",
    "#         self.next = None\n",
    "\n",
    "class Solution(object):\n",
    "    def isPalindrome(self, head):\n",
    "        \"\"\"\n",
    "        :type head: ListNode\n",
    "        :rtype: bool\n",
    "        \"\"\"\n",
    "        new_List = ListNode(0)\n",
    "        p = head\n",
    "        while p!=None:\n",
    "            temp_node = ListNode(p.val)\n",
    "            temp_node.next = new_List.next\n",
    "            new_List.next = temp_node\n",
    "            p = p.next\n",
    "        i = head\n",
    "        j = new_List.next\n",
    "        while i!=None and j!=None:\n",
    "            if i.val != j.val:\n",
    "                return False\n",
    "            else:\n",
    "                i = i.next\n",
    "                j = j.next\n",
    "        if i == None and j == None:\n",
    "            return True\n",
    "        "
   ]
  },
  {
   "cell_type": "markdown",
   "metadata": {},
   "source": [
    "## 6. 环形链表"
   ]
  },
  {
   "cell_type": "markdown",
   "metadata": {},
   "source": [
    "题目地址：https://leetcode-cn.com/explore/interview/card/top-interview-questions-easy/6/linked-list/46/"
   ]
  },
  {
   "cell_type": "code",
   "execution_count": null,
   "metadata": {},
   "outputs": [],
   "source": [
    "# Definition for singly-linked list.\n",
    "# class ListNode(object):\n",
    "#     def __init__(self, x):\n",
    "#         self.val = x\n",
    "#         self.next = None\n",
    "\n",
    "class Solution(object):\n",
    "    def hasCycle(self, head):\n",
    "        \"\"\"\n",
    "        :type head: ListNode\n",
    "        :rtype: bool\n",
    "        \"\"\"\n",
    "        p = head\n",
    "        s = {}\n",
    "        while p != None:\n",
    "            if s.get(p) == None:\n",
    "                s[p] = 1\n",
    "            else:\n",
    "                return True\n",
    "        if p == None:\n",
    "            return False\n",
    "        "
   ]
  }
 ],
 "metadata": {
  "kernelspec": {
   "display_name": "Python 3",
   "language": "python",
   "name": "python3"
  },
  "language_info": {
   "codemirror_mode": {
    "name": "ipython",
    "version": 3
   },
   "file_extension": ".py",
   "mimetype": "text/x-python",
   "name": "python",
   "nbconvert_exporter": "python",
   "pygments_lexer": "ipython3",
   "version": "3.6.5"
  }
 },
 "nbformat": 4,
 "nbformat_minor": 2
}
