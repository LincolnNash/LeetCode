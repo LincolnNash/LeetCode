{
 "cells": [
  {
   "cell_type": "markdown",
   "metadata": {},
   "source": [
    "#  数组"
   ]
  },
  {
   "cell_type": "markdown",
   "metadata": {},
   "source": [
    "## 1. 从数组中删除重复项"
   ]
  },
  {
   "cell_type": "markdown",
   "metadata": {},
   "source": [
    "题目地址：https://leetcode-cn.com/explore/interview/card/top-interview-questions-easy/1/array/21/"
   ]
  },
  {
   "cell_type": "code",
   "execution_count": null,
   "metadata": {},
   "outputs": [],
   "source": [
    "class Solution(object):\n",
    "    def removeDuplicates(self, nums):\n",
    "        \"\"\"\n",
    "        :type nums: List[int]\n",
    "        :rtype: int\n",
    "        \"\"\"\n",
    "        slowp = 0\n",
    "        fastp = 0\n",
    "        while fastp < len(nums):\n",
    "            if nums[slowp] == nums[fastp]:\n",
    "                fastp += 1\n",
    "            else:\n",
    "                slowp += 1\n",
    "                nums[slowp] = nums[fastp]\n",
    "                fastp +=1\n",
    "        return slowp+1"
   ]
  },
  {
   "cell_type": "markdown",
   "metadata": {},
   "source": [
    "从解题方法上看，指针slowp前是没有重复项的，指针fastp用来发现新的（未重复）数字。当两指针指向的元素相等时，fastp右移一位（去寻找新的元素），否则 slowp右移一位、将nums\\[slowp\\]=nums\\[fastp\\]（数组得下一格存储新的元素）、fastp右移一位（从结果的正误上来看该步操作可以不要，但是删除该操作后将多做一次无用的循环浪费一倍的时间）"
   ]
  },
  {
   "cell_type": "markdown",
   "metadata": {},
   "source": [
    "## 2. 买卖股票的最佳时机II"
   ]
  },
  {
   "cell_type": "markdown",
   "metadata": {},
   "source": [
    "题目地址：https://leetcode-cn.com/explore/interview/card/top-interview-questions-easy/1/array/22/"
   ]
  },
  {
   "cell_type": "code",
   "execution_count": null,
   "metadata": {},
   "outputs": [],
   "source": [
    "class Solution(object):\n",
    "    def maxProfit(self, prices):\n",
    "        \"\"\"\n",
    "        :type prices: List[int]\n",
    "        :rtype: int\n",
    "        \"\"\"\n",
    "        profit = 0\n",
    "        for i in range(1, len(prices)):\n",
    "            day_profit = prices[i] - prices[i-1]\n",
    "            if day_profit > 0:\n",
    "                profit += day_profit\n",
    "        return profit"
   ]
  },
  {
   "cell_type": "markdown",
   "metadata": {},
   "source": [
    "## 3. 旋转数组"
   ]
  },
  {
   "cell_type": "markdown",
   "metadata": {},
   "source": [
    "题目地址：https://leetcode-cn.com/explore/interview/card/top-interview-questions-easy/1/array/23/"
   ]
  },
  {
   "cell_type": "code",
   "execution_count": 6,
   "metadata": {},
   "outputs": [],
   "source": [
    "class Solution(object):\n",
    "    def rotate(self, nums, k):\n",
    "        \"\"\"\n",
    "        :type nums: List[int]\n",
    "        :type k: int\n",
    "        :rtype: None Do not return anything, modify nums in-place instead.\n",
    "        \"\"\"\n",
    "        k = k % len(nums)\n",
    "        i = len(nums) - k\n",
    "        while i > 0:\n",
    "            for j in range(i, i+k):\n",
    "                temp = nums[j]\n",
    "                nums[j] = nums[j-1]\n",
    "                nums[j-1] = temp\n",
    "            i -= 1"
   ]
  },
  {
   "cell_type": "markdown",
   "metadata": {},
   "source": [
    "上面的暴力方法时间复杂度O(k*(n-k))超出了时间限制"
   ]
  },
  {
   "cell_type": "code",
   "execution_count": null,
   "metadata": {},
   "outputs": [],
   "source": [
    "class Solution(object):\n",
    "    def rotate(self, nums, k):\n",
    "        \"\"\"\n",
    "        :type nums: List[int]\n",
    "        :type k: int\n",
    "        :rtype: None Do not return anything, modify nums in-place instead.\n",
    "        \"\"\"\n",
    "        k = k % len(nums)\n",
    "        if k == 0:\n",
    "            return\n",
    "        split = len(nums) - k\n",
    "        count = 0\n",
    "        point = 0\n",
    "        value_temp = nums[point]\n",
    "        while count < len(nums):\n",
    "            if point < split:\n",
    "                temp = nums[point+k]\n",
    "                nums[point+k] = value_temp\n",
    "                point = point + k\n",
    "                value_temp = temp\n",
    "            else:\n",
    "                temp = nums[point-split]\n",
    "                nums[point-split] = value_temp\n",
    "                point = point-split\n",
    "                value_temp = temp\n",
    "            count += 1\n",
    "        "
   ]
  },
  {
   "cell_type": "markdown",
   "metadata": {},
   "source": [
    "上面这种方法在一些情况下是错的，当将i放到正确位置上后，若再次循环到i的位置后会改变i到错误的位置上。下面给出一种python解法，不过太没有成就感了。"
   ]
  },
  {
   "cell_type": "code",
   "execution_count": 9,
   "metadata": {},
   "outputs": [],
   "source": [
    "class Solution(object):\n",
    "    def rotate(self, nums, k):\n",
    "        \"\"\"\n",
    "        :type nums: List[int]\n",
    "        :type k: int\n",
    "        :rtype: None Do not return anything, modify nums in-place instead.\n",
    "        \"\"\"\n",
    "        k = k % len(nums)\n",
    "        i = len(nums) - k\n",
    "        nums[:] = nums[i:] + nums[0:i]"
   ]
  },
  {
   "cell_type": "markdown",
   "metadata": {},
   "source": [
    "## 4. 存在重复"
   ]
  },
  {
   "cell_type": "markdown",
   "metadata": {},
   "source": [
    "题目地址：https://leetcode-cn.com/explore/interview/card/top-interview-questions-easy/1/array/24/"
   ]
  },
  {
   "cell_type": "code",
   "execution_count": null,
   "metadata": {},
   "outputs": [],
   "source": [
    "class Solution(object):\n",
    "    def containsDuplicate(self, nums):\n",
    "        \"\"\"\n",
    "        :type nums: List[int]\n",
    "        :rtype: bool\n",
    "        \"\"\"\n",
    "        a = set(nums)\n",
    "        if(len(a)<len(nums)):\n",
    "            return True\n",
    "        else:\n",
    "            return False"
   ]
  },
  {
   "cell_type": "markdown",
   "metadata": {},
   "source": [
    "python解法又是一行代码，"
   ]
  },
  {
   "cell_type": "markdown",
   "metadata": {},
   "source": [
    "## 5. 只出现一次的数字"
   ]
  },
  {
   "cell_type": "markdown",
   "metadata": {},
   "source": [
    "题目地址：https://leetcode-cn.com/explore/interview/card/top-interview-questions-easy/1/array/25/"
   ]
  },
  {
   "cell_type": "code",
   "execution_count": null,
   "metadata": {},
   "outputs": [],
   "source": [
    "class Solution(object):\n",
    "    def singleNumber(self, nums):\n",
    "        \"\"\"\n",
    "        :type nums: List[int]\n",
    "        :rtype: int\n",
    "        \"\"\"\n",
    "        return sum(set(nums))*2 - sum(nums)"
   ]
  },
  {
   "cell_type": "markdown",
   "metadata": {},
   "source": [
    "## 6.两个数组的交集"
   ]
  },
  {
   "cell_type": "markdown",
   "metadata": {},
   "source": [
    "题目地址：https://leetcode-cn.com/explore/interview/card/top-interview-questions-easy/1/array/26/"
   ]
  },
  {
   "cell_type": "code",
   "execution_count": null,
   "metadata": {},
   "outputs": [],
   "source": [
    "class Solution(object):\n",
    "    def intersect(self, nums1, nums2):\n",
    "        \"\"\"\n",
    "        :type nums1: List[int]\n",
    "        :type nums2: List[int]\n",
    "        :rtype: List[int]\n",
    "        \"\"\"\n",
    "        dict1 = {}\n",
    "        dict2 = {}\n",
    "        for i in nums1:\n",
    "            if i in dict1:\n",
    "                dict1[i] += 1\n",
    "            else:\n",
    "                dict1[i] = 1\n",
    "        for j in nums2:\n",
    "            if j in dict2:\n",
    "                dict2[j] += 1\n",
    "            else:\n",
    "                dict2[j] = 1\n",
    "        intersect = []\n",
    "        for k in dict1:\n",
    "            if k in dict2:\n",
    "                times = min(dict1[k], dict2[k])\n",
    "                for i in range(times):\n",
    "                    intersect.append(k)\n",
    "        return intersect"
   ]
  },
  {
   "cell_type": "code",
   "execution_count": null,
   "metadata": {},
   "outputs": [],
   "source": [
    "class Solution(object):\n",
    "    def intersect(self, nums1, nums2):\n",
    "        \"\"\"\n",
    "        :type nums1: List[int]\n",
    "        :type nums2: List[int]\n",
    "        :rtype: List[int]\n",
    "        \"\"\"\n",
    "        set1 = set(nums1)\n",
    "        set2 = set(nums2)\n",
    "        set_intersection = set1&set2\n",
    "        intersection = []\n",
    "        for i in set_intersection:\n",
    "            m = 0\n",
    "            n = 0\n",
    "            for j in nums1:\n",
    "                if j == i:\n",
    "                    m++\n",
    "            for k in nums2:\n",
    "                if k == i:\n",
    "                    n++\n",
    "            for p in range(min(n, m)):\n",
    "                intersection.append(i)\n",
    "        return intersection"
   ]
  },
  {
   "cell_type": "markdown",
   "metadata": {},
   "source": [
    "## 7. 加一"
   ]
  },
  {
   "cell_type": "markdown",
   "metadata": {},
   "source": [
    "题目地址：https://leetcode-cn.com/explore/interview/card/top-interview-questions-easy/1/array/27/"
   ]
  },
  {
   "cell_type": "code",
   "execution_count": null,
   "metadata": {},
   "outputs": [],
   "source": [
    "class Solution(object):\n",
    "    def plusOne(self, digits):\n",
    "        \"\"\"\n",
    "        :type digits: List[int]\n",
    "        :rtype: List[int]\n",
    "        \"\"\"\n",
    "        i = len(digits) - 1\n",
    "        digits[i]+=1\n",
    "        add = 0\n",
    "        while i >= 0:\n",
    "            digits[i] = digits[i]+add\n",
    "            add = 0\n",
    "            if digits[i]>=10:\n",
    "                if i == 0:\n",
    "                    add = 1\n",
    "                    digits[i] = digits[i]%10\n",
    "                    digits.insert(0, add)\n",
    "                    return digits\n",
    "                else:\n",
    "                    add = 1\n",
    "                    digits[i] = digits[i]%10\n",
    "                    i -= 1\n",
    "            else:\n",
    "                return digits\n",
    "        "
   ]
  },
  {
   "cell_type": "markdown",
   "metadata": {},
   "source": [
    "## 8. 移动零"
   ]
  },
  {
   "cell_type": "markdown",
   "metadata": {},
   "source": [
    "题目地址：https://leetcode-cn.com/explore/interview/card/top-interview-questions-easy/1/array/28/"
   ]
  },
  {
   "cell_type": "code",
   "execution_count": null,
   "metadata": {},
   "outputs": [],
   "source": [
    "class Solution(object):\n",
    "    def moveZeroes(self, nums):\n",
    "        \"\"\"\n",
    "        :type nums: List[int]\n",
    "        :rtype: None Do not return anything, modify nums in-place instead.\n",
    "        \"\"\"\n",
    "        p0 = -1      \n",
    "        p1 = 0 \n",
    "        if len(nums)<=1:\n",
    "            return\n",
    "        while p1<len(nums):\n",
    "            if nums[p1]==0:\n",
    "                p1+=1\n",
    "            else:\n",
    "                p0+=1\n",
    "                if p1-p0 != 0:\n",
    "                    nums[p0]=nums[p1]\n",
    "                    nums[p1]=0\n",
    "                p1+=1\n",
    "        "
   ]
  },
  {
   "cell_type": "markdown",
   "metadata": {},
   "source": [
    "## 9. 两数之和"
   ]
  },
  {
   "cell_type": "markdown",
   "metadata": {},
   "source": [
    "题目地址：https://leetcode-cn.com/explore/interview/card/top-interview-questions-easy/1/array/29/"
   ]
  },
  {
   "cell_type": "code",
   "execution_count": null,
   "metadata": {},
   "outputs": [],
   "source": [
    "class Solution(object):\n",
    "    def twoSum(self, nums, target):\n",
    "        \"\"\"\n",
    "        :type nums: List[int]\n",
    "        :type target: int\n",
    "        :rtype: List[int]\n",
    "        \"\"\"\n",
    "        nums_loc = {}\n",
    "        nums_time = {}\n",
    "        for i in range(len(nums)):\n",
    "            if (nums[i] in nums_loc) and (nums[i] in nums_time):\n",
    "                nums_time[nums[i]]+=1\n",
    "            else:\n",
    "                nums_time[nums[i]] = 1\n",
    "                nums_loc[nums[i]] = i\n",
    "        for i in range(len(nums)):\n",
    "            a = target - nums[i]\n",
    "            if (a != nums[i]) and (a in nums_1):\n",
    "                return [min(i,nums_1[a]), max(i,nums_1[a])]"
   ]
  },
  {
   "cell_type": "markdown",
   "metadata": {},
   "source": [
    "上面解法的思想是利用另一个数组来记录nums里的数据对应的下标，可是忽略了负数这种情况。但是该解法已经具备了hash思想。下面利用hash法来解"
   ]
  },
  {
   "cell_type": "code",
   "execution_count": 8,
   "metadata": {},
   "outputs": [],
   "source": [
    "class Solution(object):\n",
    "    def twoSum(self, nums, target):\n",
    "        \"\"\"\n",
    "        :type nums: List[int]\n",
    "        :type target: int\n",
    "        :rtype: List[int]\n",
    "        \"\"\"\n",
    "        hashmap={}\n",
    "        for ind,num in enumerate(nums):\n",
    "            hashmap[num] = ind\n",
    "        for i,num in enumerate(nums):\n",
    "            j = hashmap.get(target - num)\n",
    "            if j is not None and i!=j:\n",
    "                return [i,j]"
   ]
  },
  {
   "cell_type": "markdown",
   "metadata": {},
   "source": [
    "## 10. 有效的数独"
   ]
  },
  {
   "cell_type": "markdown",
   "metadata": {},
   "source": [
    "题目地址：https://leetcode-cn.com/explore/interview/card/top-interview-questions-easy/1/array/30/"
   ]
  },
  {
   "cell_type": "code",
   "execution_count": null,
   "metadata": {},
   "outputs": [],
   "source": [
    "class Solution(object):\n",
    "    def isValidSudoku(self, board):\n",
    "        \"\"\"\n",
    "        :type board: List[List[str]]\n",
    "        :rtype: bool\n",
    "        \"\"\"\n",
    "        row = [{},{},{},{},{},{},{},{},{}]\n",
    "        col = [{},{},{},{},{},{},{},{},{}]\n",
    "        cell = [{},{},{},{},{},{},{},{},{}]\n",
    "        for i in range(9):\n",
    "            for j in range(9):\n",
    "                if board[i][j] != '.':\n",
    "                    #行\n",
    "                    if row[i].get(board[i][j]) == None:\n",
    "                         row[i][board[i][j]] = 1\n",
    "                    else:\n",
    "                        return False\n",
    "                    \n",
    "                    #列\n",
    "                    if col[j].get(board[i][j]) == None:\n",
    "                        col[j][board[i][j]] = 1\n",
    "                    else:\n",
    "                        return False\n",
    "                    \n",
    "                    #宫格\n",
    "                    if 0<=i<3:\n",
    "                        if 0<=j<3:\n",
    "                            if cell[0].get(board[i][j]) == None:\n",
    "                                cell[0][board[i][j]] = 1\n",
    "                            else:\n",
    "                                return False\n",
    "                        if 3<=j<6:\n",
    "                            if cell[1].get(board[i][j]) == None:\n",
    "                                cell[1][board[i][j]] = 1\n",
    "                            else:\n",
    "                                return False\n",
    "                        if j>=6:\n",
    "                            if cell[2].get(board[i][j]) == None:\n",
    "                                cell[2][board[i][j]] = 1\n",
    "                            else:\n",
    "                                return False\n",
    "                        \n",
    "                    if 3<=i<6:\n",
    "                        if 0<=j<3:\n",
    "                            if cell[3].get(board[i][j]) == None:\n",
    "                                cell[3][board[i][j]] = 1\n",
    "                            else:\n",
    "                                return False\n",
    "                        if 3<=j<6:\n",
    "                            if cell[4].get(board[i][j]) == None:\n",
    "                                cell[4][board[i][j]] = 1\n",
    "                            else:\n",
    "                                return False\n",
    "                        if j>=6:\n",
    "                            if cell[5].get(board[i][j]) == None:\n",
    "                                cell[5][board[i][j]] = 1\n",
    "                            else:\n",
    "                                return False\n",
    "                    if i>=6:\n",
    "                        if 0<=j<3:\n",
    "                            if cell[6].get(board[i][j]) == None:\n",
    "                                cell[6][board[i][j]] = 1\n",
    "                            else:\n",
    "                                return False\n",
    "                        if 3<=j<6:\n",
    "                            if cell[7].get(board[i][j]) == None:\n",
    "                                cell[7][board[i][j]] = 1\n",
    "                            else:\n",
    "                                return False\n",
    "                        if j>=6:\n",
    "                            if cell[8].get(board[i][j]) == None:\n",
    "                                cell[8][board[i][j]] = 1\n",
    "                            else:\n",
    "                                return False\n",
    "        return True"
   ]
  },
  {
   "cell_type": "markdown",
   "metadata": {},
   "source": [
    "此题看上去比较复杂而且但是从规则上来讲很简单。"
   ]
  },
  {
   "cell_type": "markdown",
   "metadata": {},
   "source": [
    "## 11. 旋转图像"
   ]
  },
  {
   "cell_type": "markdown",
   "metadata": {},
   "source": [
    "题目地址：https://leetcode-cn.com/explore/interview/card/top-interview-questions-easy/1/array/31/"
   ]
  },
  {
   "cell_type": "code",
   "execution_count": 1,
   "metadata": {},
   "outputs": [],
   "source": [
    "class Solution(object):\n",
    "    def rotate(self, matrix):\n",
    "        \"\"\"\n",
    "        :type matrix: List[List[int]]\n",
    "        :rtype: None Do not return anything, modify matrix in-place instead.\n",
    "        \"\"\"\n",
    "        n = len(matrix[0])\n",
    "        if n <= 1:\n",
    "            return matrix\n",
    "        \n",
    "        i = 0\n",
    "        j = n\n",
    "        while i<j-1:\n",
    "            for c in range(i,j-1):\n",
    "                #i,c记录每一层更新的终点\n",
    "                p = i\n",
    "                q = c\n",
    "                #记录终点的值\n",
    "                end = matrix[p][q] \n",
    "                count = 0\n",
    "                while count<3:\n",
    "                    matrix[p][q] = matrix[n-1-q][p]\n",
    "                    #更新p,q的位置\n",
    "                    temp_p = p\n",
    "                    temp_q = q\n",
    "                    p = n-1-temp_q\n",
    "                    q = temp_p\n",
    "                    count+=1\n",
    "                matrix[p][q] = end\n",
    "            i+=1\n",
    "            j-=1\n",
    "                \n",
    "        "
   ]
  },
  {
   "cell_type": "markdown",
   "metadata": {},
   "source": [
    "首先对图像（或者说数组）的最外围旋转逐步向里，然后寻找像素点旋转前后的对应下标的规律"
   ]
  }
 ],
 "metadata": {
  "kernelspec": {
   "display_name": "Python 3",
   "language": "python",
   "name": "python3"
  },
  "language_info": {
   "codemirror_mode": {
    "name": "ipython",
    "version": 3
   },
   "file_extension": ".py",
   "mimetype": "text/x-python",
   "name": "python",
   "nbconvert_exporter": "python",
   "pygments_lexer": "ipython3",
   "version": "3.5.6"
  }
 },
 "nbformat": 4,
 "nbformat_minor": 2
}
