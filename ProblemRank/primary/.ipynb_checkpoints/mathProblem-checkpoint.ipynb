{
 "cells": [
  {
   "cell_type": "markdown",
   "metadata": {},
   "source": [
    "## 1. Fizz Buzz"
   ]
  },
  {
   "cell_type": "markdown",
   "metadata": {},
   "source": [
    "题目地址：https://leetcode-cn.com/explore/featured/card/top-interview-questions-easy/25/math/60/"
   ]
  },
  {
   "cell_type": "code",
   "execution_count": null,
   "metadata": {},
   "outputs": [],
   "source": [
    "class Solution(object):\n",
    "    def fizzBuzz(self, n):\n",
    "        \"\"\"\n",
    "        :type n: int\n",
    "        :rtype: List[str]\n",
    "        \"\"\"\n",
    "        l=[]\n",
    "        for i in range(1,n+1):\n",
    "            if i % 3 == 0 and i % 5 == 0:\n",
    "                l.append(\"FizzBuzz\")\n",
    "            elif i % 3 == 0:\n",
    "                l.append(\"Fizz\")\n",
    "            elif i % 5 == 0:\n",
    "                l.append(\"Buzz\")\n",
    "            else:\n",
    "                l.append(str(i))\n",
    "        return l"
   ]
  },
  {
   "cell_type": "markdown",
   "metadata": {},
   "source": [
    "## 2.计数质数"
   ]
  },
  {
   "cell_type": "code",
   "execution_count": null,
   "metadata": {},
   "outputs": [],
   "source": [
    "import math\n",
    "class Solution:\n",
    "    def countPrimes(self, n: int) -> int:\n",
    "        count = 0\n",
    "        if n<=1:\n",
    "            return count\n",
    "        label = [1]*(n+1) #记录质数合数\n",
    "        for i in range(2, math.ceil(math.sqrt(n))):\n",
    "            for j in range(i, math.ceil(n/i)):\n",
    "                label[i*j] = 0\n",
    "        for k in range(2, n):\n",
    "            if label[k] != 0:\n",
    "                count+=1\n",
    "        return count"
   ]
  },
  {
   "cell_type": "markdown",
   "metadata": {},
   "source": [
    "若使用暴力解法（遍历n以内的数找a找到a的因子即为合数否则为质数）复杂度为O（n^2）,该解法的思想如下：对于每一个可以分解因子的合数，都存在重复比如12<br></br>12=2 x 6<br></br>12=3 x 4<br></br>12 = sqrt(12) x sqrt(12)<br></br>12=6 x 2<br></br>12=4 x 3<br></br>所以我们只需要找到如3 x 4这些因子的组合并且不重复计算4 x 3，这些乘积的结果即为n以内的合数。剩下的即为质数"
   ]
  }
 ],
 "metadata": {
  "kernelspec": {
   "display_name": "Python 3",
   "language": "python",
   "name": "python3"
  },
  "language_info": {
   "codemirror_mode": {
    "name": "ipython",
    "version": 3
   },
   "file_extension": ".py",
   "mimetype": "text/x-python",
   "name": "python",
   "nbconvert_exporter": "python",
   "pygments_lexer": "ipython3",
   "version": "3.6.5"
  }
 },
 "nbformat": 4,
 "nbformat_minor": 2
}
