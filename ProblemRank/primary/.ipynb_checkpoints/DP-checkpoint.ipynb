{
 "cells": [
  {
   "cell_type": "markdown",
   "metadata": {},
   "source": [
    "# 1.爬楼梯"
   ]
  },
  {
   "cell_type": "markdown",
   "metadata": {},
   "source": [
    "题目地址：https://leetcode-cn.com/explore/interview/card/top-interview-questions-easy/23/dynamic-programming/54/"
   ]
  },
  {
   "cell_type": "code",
   "execution_count": null,
   "metadata": {},
   "outputs": [],
   "source": [
    "class Solution(object):\n",
    "    def climbStairs(self, n):\n",
    "        \"\"\"\n",
    "        :type n: int\n",
    "        :rtype: int\n",
    "        \"\"\"\n",
    "        if n == 1:#递归出口\n",
    "            return 1\n",
    "        if n == 2:#递归出口\n",
    "            return 2\n",
    "        return self.climbStairs(n-1) + self.climbStairs(n-2)#递归项"
   ]
  },
  {
   "cell_type": "markdown",
   "metadata": {},
   "source": [
    "上述方法为递归解法，有些问题中递归解法会出现重叠子问题的现象。下面给出动态规划解法可以避免重叠子问题。"
   ]
  },
  {
   "cell_type": "code",
   "execution_count": null,
   "metadata": {},
   "outputs": [],
   "source": [
    "class Solution(object):\n",
    "    def climbStairs(self, n):\n",
    "        \"\"\"\n",
    "        :type n: int\n",
    "        :rtype: int\n",
    "        \"\"\"\n",
    "        opt1 = 1#子问题\n",
    "        opt2 = 2#子问题\n",
    "        if n==1:\n",
    "            return opt1\n",
    "        if n==2:\n",
    "            return opt2\n",
    "        else:\n",
    "            for i in range(3, n+1):#迭代子问题\n",
    "                temp1 = opt1\n",
    "                temp2 = opt2\n",
    "                opt2 = temp1+temp2\n",
    "                opt1 = opt2\n",
    "        return opt2\n",
    "        \n",
    "        "
   ]
  },
  {
   "cell_type": "markdown",
   "metadata": {},
   "source": [
    "# 2.买卖股票的最佳时机"
   ]
  },
  {
   "cell_type": "markdown",
   "metadata": {},
   "source": [
    "题目地址：https://leetcode-cn.com/explore/interview/card/top-interview-questions-easy/23/dynamic-programming/55/"
   ]
  },
  {
   "cell_type": "code",
   "execution_count": null,
   "metadata": {},
   "outputs": [],
   "source": [
    "class Solution:\n",
    "    def maxProfit(self, prices: List[int]) -> int:\n",
    "        mpf = 0#记录最大利润\n",
    "        minp = float(\"inf\")#记录最小价格\n",
    "        for i in range(0,len(prices)):#迭代更新最小价格并更新最大利润\n",
    "            if prices[i]<minp:\n",
    "                minp = prices[i]\n",
    "            if prices[i]-minp>mpf:\n",
    "                mpf = prices[i]-minp\n",
    "        return mpf"
   ]
  },
  {
   "cell_type": "markdown",
   "metadata": {},
   "source": [
    "# 2.最大子序列和"
   ]
  },
  {
   "cell_type": "code",
   "execution_count": null,
   "metadata": {},
   "outputs": [],
   "source": [
    "class Solution(object):\n",
    "    def maxSubArray(self, nums):\n",
    "        \"\"\"\n",
    "        :type nums: List[int]\n",
    "        :rtype: int\n",
    "        \"\"\"\n",
    "        current_max = 0\n",
    "        length = len(nums)\n",
    "        if length==1:\n",
    "            return nums[0]\n",
    "        maxSubSum = nums[0]\n",
    "        for i in range(1,length):\n",
    "            if maxSubSum<0:\n",
    "                current_max = nums[i]\n",
    "            else:\n",
    "                current_max = maxSubSum+nums[i]\n",
    "            maxSubSum = max(maxSubSum, current_max)\n",
    "        return maxSubSum"
   ]
  }
 ],
 "metadata": {
  "kernelspec": {
   "display_name": "Python 3",
   "language": "python",
   "name": "python3"
  },
  "language_info": {
   "codemirror_mode": {
    "name": "ipython",
    "version": 3
   },
   "file_extension": ".py",
   "mimetype": "text/x-python",
   "name": "python",
   "nbconvert_exporter": "python",
   "pygments_lexer": "ipython3",
   "version": "3.6.5"
  }
 },
 "nbformat": 4,
 "nbformat_minor": 2
}
