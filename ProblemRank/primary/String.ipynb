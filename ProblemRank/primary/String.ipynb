{
 "cells": [
  {
   "cell_type": "markdown",
   "metadata": {},
   "source": [
    "## 1. 反转字符串"
   ]
  },
  {
   "cell_type": "markdown",
   "metadata": {},
   "source": [
    "题目地址：https://leetcode-cn.com/explore/interview/card/top-interview-questions-easy/5/strings/32/"
   ]
  },
  {
   "cell_type": "code",
   "execution_count": null,
   "metadata": {},
   "outputs": [],
   "source": [
    "class Solution(object):\n",
    "    def reverseString(self, s):\n",
    "        \"\"\"\n",
    "        :type s: List[str]\n",
    "        :rtype: None Do not return anything, modify s in-place instead.\n",
    "        \"\"\"\n",
    "        i = 0\n",
    "        j = len(s)-1\n",
    "        while i <= j:\n",
    "            temp = s[i]\n",
    "            s[i] = s[j]\n",
    "            s[j] = temp\n",
    "            i++\n",
    "            j--"
   ]
  },
  {
   "cell_type": "markdown",
   "metadata": {},
   "source": [
    "## 2. 整数反转"
   ]
  },
  {
   "cell_type": "markdown",
   "metadata": {},
   "source": [
    "题目地址：https://leetcode-cn.com/explore/interview/card/top-interview-questions-easy/5/strings/33/"
   ]
  },
  {
   "cell_type": "code",
   "execution_count": null,
   "metadata": {},
   "outputs": [],
   "source": [
    "class Solution(object):\n",
    "    def reverse(self, x):\n",
    "        \"\"\"\n",
    "        :type x: int\n",
    "        :rtype: int\n",
    "        \"\"\"\n",
    "        \n",
    "        x = str(x)\n",
    "        i = len(x)-1\n",
    "        y = 0\n",
    "        while i > 0:\n",
    "            if x[i] == '0':\n",
    "                i-=1\n",
    "                continue\n",
    "            else:\n",
    "                break\n",
    "        while i > 0:\n",
    "            y = y + int(x[i]) * 10**i\n",
    "            i-=1\n",
    "        if x[i] == '-':\n",
    "            y = -y/10\n",
    "        else:\n",
    "            y = y + int(x[i]) * 10**i\n",
    "        if -(2**31)<y<(2**31)-1:\n",
    "            return y\n",
    "        else:\n",
    "            return 0"
   ]
  },
  {
   "cell_type": "markdown",
   "metadata": {},
   "source": [
    "将整数x转换为字符串处理，寻找最后一个非零数字，然后逆序遍历组合成整数，注意x\\[0\\]这个位置上有可能是符号“-”需要转换其符号并作除以10"
   ]
  },
  {
   "cell_type": "markdown",
   "metadata": {},
   "source": [
    "## 3. 字符串中的第一个唯一字符"
   ]
  },
  {
   "cell_type": "markdown",
   "metadata": {},
   "source": [
    "题目地址：https://leetcode-cn.com/explore/interview/card/top-interview-questions-easy/5/strings/34/"
   ]
  },
  {
   "cell_type": "code",
   "execution_count": null,
   "metadata": {},
   "outputs": [],
   "source": [
    "class Solution(object):\n",
    "    def firstUniqChar(self, s):\n",
    "        \"\"\"\n",
    "        :type s: str\n",
    "        :rtype: int\n",
    "        \"\"\"\n",
    "        d = {}\n",
    "        for i in s:\n",
    "            if i not in d: \n",
    "                d[i] = 1\n",
    "            else:\n",
    "                d[i]+=1\n",
    "        j = 0\n",
    "        while j < len(s):\n",
    "            if d[s[j]] > 1:\n",
    "                j+=1\n",
    "            else:\n",
    "                return j\n",
    "        if j == len(s):\n",
    "            return -1\n",
    "        else:\n",
    "            return j"
   ]
  },
  {
   "cell_type": "markdown",
   "metadata": {},
   "source": [
    "该解法利用hash思想，两次遍历数组"
   ]
  },
  {
   "cell_type": "markdown",
   "metadata": {},
   "source": [
    "## 4. 有效的字母异位词"
   ]
  },
  {
   "cell_type": "markdown",
   "metadata": {},
   "source": [
    "题目地址：https://leetcode-cn.com/explore/interview/card/top-interview-questions-easy/5/strings/35/"
   ]
  },
  {
   "cell_type": "code",
   "execution_count": null,
   "metadata": {},
   "outputs": [],
   "source": [
    "class Solution(object):\n",
    "    def isAnagram(self, s, t):\n",
    "        \"\"\"\n",
    "        :type s: str\n",
    "        :type t: str\n",
    "        :rtype: bool\n",
    "        \"\"\"\n",
    "        dic1 = {}\n",
    "        dic2 = {}\n",
    "        for c in s:\n",
    "            if c not in s: \n",
    "                dic1[c] = 1\n",
    "            else:\n",
    "                dic1[c]+=1\n",
    "        for c in t:\n",
    "            if c not in t: \n",
    "                dic2[c] = 1\n",
    "            else:\n",
    "                dic2[c]+=1\n",
    "        return dic1==dic2"
   ]
  },
  {
   "cell_type": "code",
   "execution_count": 3,
   "metadata": {},
   "outputs": [
    {
     "name": "stdout",
     "output_type": "stream",
     "text": [
      "False\n",
      "4488128520 4488128456\n"
     ]
    }
   ],
   "source": [
    "dic1 = {\"a\":3,\"b\":2,\"c\":3}\n",
    "dic2 = {\"a\":1,\"b\":2,\"c\":3}\n",
    "print(dic1==dic2)\n",
    "print(id(dic1),id(dic2))"
   ]
  },
  {
   "cell_type": "markdown",
   "metadata": {},
   "source": [
    "## 5. 验证回文字符串"
   ]
  },
  {
   "cell_type": "markdown",
   "metadata": {},
   "source": [
    "题目地址：https://leetcode-cn.com/explore/interview/card/top-interview-questions-easy/5/strings/36/"
   ]
  },
  {
   "cell_type": "code",
   "execution_count": 7,
   "metadata": {},
   "outputs": [
    {
     "ename": "SyntaxError",
     "evalue": "unexpected EOF while parsing (<ipython-input-7-745a2d075aee>, line 20)",
     "output_type": "error",
     "traceback": [
      "\u001b[0;36m  File \u001b[0;32m\"<ipython-input-7-745a2d075aee>\"\u001b[0;36m, line \u001b[0;32m20\u001b[0m\n\u001b[0;31m    if i == j:\u001b[0m\n\u001b[0m              ^\u001b[0m\n\u001b[0;31mSyntaxError\u001b[0m\u001b[0;31m:\u001b[0m unexpected EOF while parsing\n"
     ]
    }
   ],
   "source": [
    "class Solution(object):\n",
    "    def isPalindrome(self, s):\n",
    "        \"\"\"\n",
    "        :type s: str\n",
    "        :rtype: bool\n",
    "        \"\"\"\n",
    "        s = s.strip()\n",
    "        if len(s) <= 1:\n",
    "            return True\n",
    "        s = s.lower()\n",
    "        i = 0\n",
    "        j = len(s) - 1\n",
    "        while 1:\n",
    "            while i<len(s) and i < j:\n",
    "                if (not s[i].isalpha()) and (not s[i].isdigit()):\n",
    "                    i += 1\n",
    "                else:\n",
    "                    break\n",
    "            while j>=0 and i < j:\n",
    "                if (not s[j].isalpha()) and (not s[j].isdigit()):\n",
    "                    j -= 1\n",
    "                else:\n",
    "                    break\n",
    "\n",
    "            print(s[i])\n",
    "            print(s[j])\n",
    "\n",
    "            if s[i] != s[j] or (not s[i].isalpha() and not s[i].isalpha()) or (not s[j].isalpha() and not s[j].isalpha()):\n",
    "                return False\n",
    "            else:\n",
    "                if i>=j:\n",
    "                    return True\n",
    "                i += 1\n",
    "                j -= 1"
   ]
  },
  {
   "cell_type": "code",
   "execution_count": null,
   "metadata": {},
   "outputs": [],
   "source": [
    "        if(len(s) <= 1):\n",
    "            return True\n",
    "        s = s.lower()\n",
    "        i = 0\n",
    "        j = len(s) - 1\n",
    "        while(True):\n",
    "            if((s[i].isalpha() or s[i].isdigit()) and (s[j].isalpha() or s[j].isdigit())):\n",
    "                if(s[i] != s[j]):\n",
    "                    return False\n",
    "                else:\n",
    "                    if(i >= j):\n",
    "                        return True\n",
    "                    i += 1\n",
    "                    j -= 1\n",
    "            else:\n",
    "                if((not s[i].isalpha()) and (not s[i].isdigit())):\n",
    "                    i += 1\n",
    "                if ((not s[j].isalpha()) and (not s[j].isdigit())):\n",
    "                    j -= 1\n",
    "                if(i >= j):\n",
    "                    return True"
   ]
  },
  {
   "cell_type": "markdown",
   "metadata": {},
   "source": [
    "## 6. 字符串转换整数 "
   ]
  },
  {
   "cell_type": "markdown",
   "metadata": {},
   "source": [
    "题目地址：https://leetcode-cn.com/explore/interview/card/top-interview-questions-easy/5/strings/37/"
   ]
  },
  {
   "cell_type": "code",
   "execution_count": null,
   "metadata": {},
   "outputs": [],
   "source": [
    "class Solution(object):\n",
    "    def myAtoi(self, str):\n",
    "        \"\"\"\n",
    "        :type str: str\n",
    "        :rtype: int\n",
    "        \"\"\"\n",
    "        str = str.strip()\n",
    "        if len(str) == 0:\n",
    "            return 0\n",
    "        if len(str) == 1:\n",
    "            if not str[0].isdigit():\n",
    "                return 0\n",
    "            else:\n",
    "                return int(str)\n",
    "        if str[0] != '-' and str[0] != '+' and not str[0].isdigit():\n",
    "            return 0\n",
    "        s = \"\"\n",
    "        for i in range(1,len(str)):\n",
    "            if str[i].isdigit(): \n",
    "                s = str[:i+1]\n",
    "                continue\n",
    "            else:\n",
    "                s = str[:i]\n",
    "                break\n",
    "        if s == \"-\" or s == \"+\":\n",
    "            return 0\n",
    "        else:\n",
    "            s_int = int(s)\n",
    "            if s_int>2**31-1:\n",
    "                return 2**31-1\n",
    "            elif s_int<-2**31:\n",
    "                return -2**31\n",
    "            else:\n",
    "                return s_int"
   ]
  },
  {
   "cell_type": "markdown",
   "metadata": {},
   "source": [
    "## 7.实现strStr()"
   ]
  },
  {
   "cell_type": "markdown",
   "metadata": {},
   "source": [
    "题目地址：https://leetcode-cn.com/explore/interview/card/top-interview-questions-easy/5/strings/38/"
   ]
  },
  {
   "cell_type": "code",
   "execution_count": null,
   "metadata": {},
   "outputs": [],
   "source": [
    "class Solution(object):\n",
    "    def strStr(self, haystack, needle):\n",
    "        \"\"\"\n",
    "        :type haystack: str\n",
    "        :type needle: str\n",
    "        :rtype: int\n",
    "        \"\"\"\n",
    "        len_haystack = len(haystack)\n",
    "        len_needle = len(needle)\n",
    "        if len_needle == 0:\n",
    "            return 0\n",
    "        i = 0\n",
    "        j = len_needle\n",
    "        while j<=len_haystack:\n",
    "            str = haystack[i:j]\n",
    "            if str == needle:\n",
    "                return i\n",
    "            elif j == len_haystack:\n",
    "                return -1\n",
    "            else:\n",
    "                i+=1\n",
    "                j+=1\n",
    "                "
   ]
  },
  {
   "cell_type": "markdown",
   "metadata": {},
   "source": [
    "## 8. 最长公共前缀"
   ]
  },
  {
   "cell_type": "markdown",
   "metadata": {},
   "source": [
    "题目地址：https://leetcode-cn.com/explore/interview/card/top-interview-questions-easy/5/strings/40/"
   ]
  },
  {
   "cell_type": "code",
   "execution_count": null,
   "metadata": {},
   "outputs": [],
   "source": [
    "class Solution(object):\n",
    "    def longestCommonPrefix(self, strs):\n",
    "        \"\"\"\n",
    "        :type strs: List[str]\n",
    "        :rtype: str\n",
    "        \"\"\"\n",
    "        if len(strs) == 0:\n",
    "            return \"\"\n",
    "        common_str = strs[0]\n",
    "        for i in range(0,len(strs)):\n",
    "            p=0\n",
    "            while p<min(len(common_str), len(strs[i])):\n",
    "                if common_str[p] == strs[i][p]:\n",
    "                    p+=1\n",
    "                else:\n",
    "                    break\n",
    "            common_str = common_str[0:p]\n",
    "        return common_str"
   ]
  }
 ],
 "metadata": {
  "kernelspec": {
   "display_name": "Python 3",
   "language": "python",
   "name": "python3"
  },
  "language_info": {
   "codemirror_mode": {
    "name": "ipython",
    "version": 3
   },
   "file_extension": ".py",
   "mimetype": "text/x-python",
   "name": "python",
   "nbconvert_exporter": "python",
   "pygments_lexer": "ipython3",
   "version": "3.6.8"
  }
 },
 "nbformat": 4,
 "nbformat_minor": 2
}
