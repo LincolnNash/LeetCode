{
 "cells": [
  {
   "cell_type": "markdown",
   "metadata": {},
   "source": [
    "## 1. 二叉树的最大深度"
   ]
  },
  {
   "cell_type": "markdown",
   "metadata": {},
   "source": [
    "题目地址：https://leetcode-cn.com/explore/interview/card/top-interview-questions-easy/7/trees/47/"
   ]
  },
  {
   "cell_type": "code",
   "execution_count": null,
   "metadata": {},
   "outputs": [],
   "source": [
    "# Definition for a binary tree node.\n",
    "# class TreeNode(object):\n",
    "#     def __init__(self, x):\n",
    "#         self.val = x\n",
    "#         self.left = None\n",
    "#         self.right = None\n",
    "\n",
    "class Solution(object):\n",
    "    def maxDepth(self, root):\n",
    "        \"\"\"\n",
    "        :type root: TreeNode\n",
    "        :rtype: int\n",
    "        \"\"\"\n",
    "        if root == None:\n",
    "            return 0\n",
    "        else:\n",
    "            left_height = self.maxDepth(root.letf)\n",
    "            right_height = self.maxDepth(root.right)\n",
    "            return max(left_height, right_height)+1"
   ]
  },
  {
   "cell_type": "markdown",
   "metadata": {},
   "source": [
    "\\*时间复杂度：我们每个结点只访问一次，因此时间复杂度为 O(N)，\n",
    "其中 N 是结点的数量。<br>\n",
    "\\*空间复杂度：在最糟糕的情况下，树是完全不平衡的，例如每个结点只剩下左子结点，递归将会被调用 N 次（树的高度），因此保持调用栈的存储将是 O(N)。但在最好的情况下（树是完全平衡的），树的高度将是 log(N)。因此，在这种情况下的空间复杂度将是 O(log(N))。"
   ]
  },
  {
   "cell_type": "markdown",
   "metadata": {},
   "source": [
    "上面给出的是递归解法，接下来给出迭代解法"
   ]
  },
  {
   "cell_type": "code",
   "execution_count": null,
   "metadata": {},
   "outputs": [],
   "source": [
    "# Definition for a binary tree node.\n",
    "# class TreeNode(object):\n",
    "#     def __init__(self, x):\n",
    "#         self.val = x\n",
    "#         self.left = None\n",
    "#         self.right = None\n",
    "\n",
    "class Solution(object):\n",
    "    def maxDepth(self, root):\n",
    "        \"\"\"\n",
    "        :type root: TreeNode\n",
    "        :rtype: int\n",
    "        \"\"\"\n",
    "        #用栈来存储每次访问的节点所在层和指针\n",
    "        stack = []\n",
    "        if root is not None:\n",
    "            stack.append((1, root))\n",
    "        depth = 0\n",
    "        while stack!=[]:\n",
    "            current_depth, root = stack.pop()\n",
    "            #访问节点并更新深度\n",
    "            if root is not None:\n",
    "                depth = max(current_depth, depth)\n",
    "                stack.append((current_depth+1, root.left))\n",
    "                stack.append((current_depth+1, root.right))\n",
    "        return depth"
   ]
  },
  {
   "cell_type": "markdown",
   "metadata": {},
   "source": [
    "## 2.验证二叉搜索树"
   ]
  },
  {
   "cell_type": "markdown",
   "metadata": {},
   "source": [
    "题目地址：https://leetcode-cn.com/explore/interview/card/top-interview-questions-easy/7/trees/48/"
   ]
  },
  {
   "cell_type": "code",
   "execution_count": null,
   "metadata": {},
   "outputs": [],
   "source": [
    "# Definition for a binary tree node.\n",
    "# class TreeNode(object):\n",
    "#     def __init__(self, x):\n",
    "#         self.val = x\n",
    "#         self.left = None\n",
    "#         self.right = None\n",
    "def isValidBST(self, root):\n",
    "    \"\"\"\n",
    "    :type root: TreeNode\n",
    "    :rtype: bool\n",
    "    \"\"\" \n",
    "    stack = []\n",
    "    postorder = float('-inf')\n",
    "    while (stack!=[]) or (root is not None):\n",
    "        #当前节点若不为空\n",
    "        if root is not None:\n",
    "            #将当前节点入栈\n",
    "            stack.append(root)\n",
    "            #并将当前节点更新为当前节点的左节点\n",
    "            root = root.left\n",
    "        #若当前节点为空\n",
    "        else:\n",
    "            #将当前节点跟新为当前节点的父节点\n",
    "            root = stack.pop()\n",
    "            #该if语句判断遍历结果序列是否为递增序列\n",
    "            if postorder < root.val:\n",
    "                postorder = root.val\n",
    "            else:\n",
    "                return False\n",
    "            #将当前节点更新为当前节点的右节点\n",
    "            root = root.right\n",
    "    return True"
   ]
  },
  {
   "cell_type": "markdown",
   "metadata": {},
   "source": [
    "二叉搜索树的中序遍历的结果是递增序列。"
   ]
  },
  {
   "cell_type": "markdown",
   "metadata": {},
   "source": [
    "## 3.对称二叉树"
   ]
  },
  {
   "cell_type": "markdown",
   "metadata": {},
   "source": [
    "题目地址：https://leetcode-cn.com/explore/interview/card/top-interview-questions-easy/7/trees/49/"
   ]
  },
  {
   "cell_type": "code",
   "execution_count": null,
   "metadata": {},
   "outputs": [],
   "source": [
    "## Definition for a binary tree node.\n",
    "# class TreeNode(object):\n",
    "#     def __init__(self, x):\n",
    "#         self.val = x\n",
    "#         self.left = None\n",
    "#         self.right = None\n",
    "import queue\n",
    "class Solution(object):\n",
    "    def levelOrder(self, root):\n",
    "        \"\"\"\n",
    "        :type root: TreeNode\n",
    "        :rtype: List[List[int]]\n",
    "        \"\"\"\n",
    "        q = Queue.Queue()\n",
    "        output=[]\n",
    "        p = 0\n",
    "        t = []\n",
    "        if root is not None:\n",
    "            q.put((root,0))\n",
    "        while not q.empty():\n",
    "            root,current_depth =q.get()\n",
    "            if current_depth>p:\n",
    "                output.append(t)\n",
    "                t = []\n",
    "                p=current_depth\n",
    "            t.append(root.val)\n",
    "            if root.left is not None:\n",
    "                q.put((root.left,current_depth+1))\n",
    "            if root.right is not None:\n",
    "                q.put((root.right,current_depth+1))\n",
    "        output.append(t)\n",
    "        return output"
   ]
  },
  {
   "cell_type": "markdown",
   "metadata": {},
   "source": [
    "上述方法为递归解法"
   ]
  },
  {
   "cell_type": "markdown",
   "metadata": {},
   "source": [
    "## 4.二叉树的层次遍历"
   ]
  },
  {
   "cell_type": "markdown",
   "metadata": {},
   "source": [
    "题目地址：https://leetcode-cn.com/explore/interview/card/top-interview-questions-easy/7/trees/50/"
   ]
  },
  {
   "cell_type": "code",
   "execution_count": 4,
   "metadata": {},
   "outputs": [],
   "source": [
    "# Definition for a binary tree node.\n",
    "# class TreeNode(object):\n",
    "#     def __init__(self, x):\n",
    "#         self.val = x\n",
    "#         self.left = None\n",
    "#         self.right = None\n",
    "import queue\n",
    "class Solution(object):\n",
    "    def levelOrder(self, root):\n",
    "        \"\"\"\n",
    "        :type root: TreeNode\n",
    "        :rtype: List[List[int]]\n",
    "        \"\"\"\n",
    "        q = Queue.Queue()\n",
    "        output=[]\n",
    "        p = 0\n",
    "        t = []\n",
    "        if root is not None:\n",
    "            q.put((root,0))\n",
    "        while not q.empty():\n",
    "            root,current_depth =q.get()\n",
    "            if current_depth>p:\n",
    "                output.append(t)\n",
    "                t = []\n",
    "                p=current_depth\n",
    "            t.append(root.val)\n",
    "            if root.left is not None:\n",
    "                q.put((root.left,current_depth+1))\n",
    "            if root.right is not None:\n",
    "                q.put((root.right,current_depth+1))\n",
    "        output.append(t)\n",
    "        return output"
   ]
  },
  {
   "cell_type": "markdown",
   "metadata": {},
   "source": [
    "## 5.将有序数组转换为二叉搜索树"
   ]
  },
  {
   "cell_type": "markdown",
   "metadata": {},
   "source": [
    "题目地址：https://leetcode-cn.com/explore/interview/card/top-interview-questions-easy/7/trees/51/"
   ]
  },
  {
   "cell_type": "code",
   "execution_count": null,
   "metadata": {},
   "outputs": [],
   "source": []
  }
 ],
 "metadata": {
  "kernelspec": {
   "display_name": "Python 3",
   "language": "python",
   "name": "python3"
  },
  "language_info": {
   "codemirror_mode": {
    "name": "ipython",
    "version": 3
   },
   "file_extension": ".py",
   "mimetype": "text/x-python",
   "name": "python",
   "nbconvert_exporter": "python",
   "pygments_lexer": "ipython3",
   "version": "3.6.5"
  }
 },
 "nbformat": 4,
 "nbformat_minor": 2
}
