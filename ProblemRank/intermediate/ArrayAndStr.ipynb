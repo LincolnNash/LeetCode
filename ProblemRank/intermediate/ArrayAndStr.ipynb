{
 "cells": [
  {
   "cell_type": "markdown",
   "metadata": {},
   "source": [
    "## 1.三数之和"
   ]
  },
  {
   "cell_type": "markdown",
   "metadata": {},
   "source": [
    "题目地址：https://leetcode-cn.com/explore/interview/card/top-interview-questions-medium/29/array-and-strings/75/"
   ]
  },
  {
   "cell_type": "code",
   "execution_count": 38,
   "metadata": {},
   "outputs": [
    {
     "ename": "SyntaxError",
     "evalue": "'return' outside function (<ipython-input-38-64be2fa07d03>, line 17)",
     "traceback": [
      "\u001b[0;36m  File \u001b[0;32m\"<ipython-input-38-64be2fa07d03>\"\u001b[0;36m, line \u001b[0;32m17\u001b[0m\n\u001b[0;31m    return list(nlist.values())\u001b[0m\n\u001b[0m    ^\u001b[0m\n\u001b[0;31mSyntaxError\u001b[0m\u001b[0;31m:\u001b[0m 'return' outside function\n"
     ],
     "output_type": "error"
    }
   ],
   "source": [
    "class Solution:\n",
    "    def threeSum(self, nums: List[int]) -> List[List[int]]:\n",
    "        #存储元素对应的位置\n",
    "        hashmap_ind = {}\n",
    "        #返回的结果\n",
    "        nlist = []\n",
    "        for ind, num in enumerate(nums):\n",
    "            hashmap_ind[num] = ind\n",
    "        for c_ind,c in enumerate(nums):\n",
    "            for a_ind, a in enumerate(nums):\n",
    "                b_ind = hashmap_ind.get((-c)-a)\n",
    "                if b_ind is not None and c_ind != b_ind and c_ind != a_ind and a_ind != b_ind:\n",
    "                    nlist.append([nums[a_ind], nums[b_ind], nums[c_ind]])\n",
    "#                     hashkey = ''.join(sorted([str(nums[a_ind]), str(nums[b_ind]), str(nums[c_ind])]))\n",
    "#                     nlist[hashkey] = [nums[a_ind], nums[b_ind], nums[c_ind]]\n",
    "#         return list(nlist.values()) \n",
    "        print(len(nlist))\n",
    "        return \n",
    "                "
   ]
  },
  {
   "cell_type": "code",
   "execution_count": null,
   "metadata": {},
   "outputs": [],
   "source": []
  }
 ],
 "metadata": {
  "kernelspec": {
   "display_name": "Python 3",
   "language": "python",
   "name": "python3"
  },
  "language_info": {
   "codemirror_mode": {
    "name": "ipython",
    "version": 3
   },
   "file_extension": ".py",
   "mimetype": "text/x-python",
   "name": "python",
   "nbconvert_exporter": "python",
   "pygments_lexer": "ipython3",
   "version": "3.6.8"
  }
 },
 "nbformat": 4,
 "nbformat_minor": 2
}
