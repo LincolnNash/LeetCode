{
 "cells": [
  {
   "cell_type": "markdown",
   "metadata": {},
   "source": [
    "# 堆"
   ]
  },
  {
   "cell_type": "markdown",
   "metadata": {},
   "source": [
    "## 1 二叉堆"
   ]
  },
  {
   "cell_type": "markdown",
   "metadata": {},
   "source": [
    "### 1.1定义"
   ]
  },
  {
   "cell_type": "markdown",
   "metadata": {},
   "source": [
    "定义：堆是一种用数组存储的完全二叉树。（一个二叉树除了最后一层其他层都是满的，而且最后一层的节点靠左的二叉树就是完全二叉树）下图（来源：《算法导论》）是堆的一个例子。"
   ]
  },
  {
   "cell_type": "markdown",
   "metadata": {},
   "source": [
    "![Screen%20Shot%202020-04-21%20at%209.19.08%20PM.png](attachment:Screen%20Shot%202020-04-21%20at%209.19.08%20PM.png)"
   ]
  },
  {
   "cell_type": "markdown",
   "metadata": {},
   "source": [
    "根据二叉树的性质，我们可以根据元素在数组中的下标找到该元素对应的父节点、孩子节点。<br>当根节点下标为1:$$Parent[i] = \\llcorner \\frac{i}{2} \\lrcorner$$<br>\n",
    "$$left[i] = 2i$$<br> $$right[i]=2i+1$$<br>当根节点下标为0:$$Parent[i] = \\llcorner \\frac{i-1}{2} \\lrcorner$$<br>\n",
    "$$left[i] = 2i+1$$<br>$$right[i]=2i+2$$<br>"
   ]
  },
  {
   "cell_type": "markdown",
   "metadata": {},
   "source": [
    "### 1.2 最大堆和最小堆"
   ]
  },
  {
   "cell_type": "markdown",
   "metadata": {},
   "source": [
    "最大堆：在最大堆中，除了根节点以外的节点都满足$A[Parent[i]]>=A[i]$(A表示存储堆的数组)即子树的根节点是子树的最大节点。根据最大堆的性质不难看出最大值在根节点。"
   ]
  },
  {
   "cell_type": "markdown",
   "metadata": {},
   "source": [
    "最小堆：相反的在最小堆中，除了根节点以外的节点都满足$A[Parent[i]]<=A[i]$即子树的根节点是子树的最小节点。根据最小堆的性质不难看出最小值在根节点。"
   ]
  },
  {
   "cell_type": "markdown",
   "metadata": {},
   "source": [
    "### 1.3 保持二叉堆的性质"
   ]
  },
  {
   "cell_type": "markdown",
   "metadata": {},
   "source": [
    "这里我们以保持最大堆的性质的过程（Max_Heapify）作为例子，保持最小堆的性质的过程可以类推。Max_Heapify过程可以这样描述（图片来源：算法导论）：\n",
    "![Screen%20Shot%202020-04-21%20at%2011.03.12%20PM.png](attachment:Screen%20Shot%202020-04-21%20at%2011.03.12%20PM.png)"
   ]
  },
  {
   "cell_type": "markdown",
   "metadata": {},
   "source": [
    "我们用语言来大致描述一下上述过程：给定用数组存储的堆A和元素下标；计算得到下标为i的元素对应的左右孩子的下标l、r；比较给定节点A\\[i\\]和左后孩子A\\[l\\]、A\\[r\\]得到最大元素对应的下标largest；如果largest==i则pass，否则将largest对应的元素和A\\[i\\]对换。对换后有可能某个子树又不满足最大堆的条件。那么这个时候就重复上述Max_Heap过程。下图（来源：算法导论）a->b->c描述了上述过程：\n",
    "![Screen%20Shot%202020-04-21%20at%2011.30.07%20PM.png](attachment:Screen%20Shot%202020-04-21%20at%2011.30.07%20PM.png)"
   ]
  },
  {
   "cell_type": "markdown",
   "metadata": {},
   "source": [
    "## 1.4 建堆"
   ]
  },
  {
   "cell_type": "markdown",
   "metadata": {},
   "source": [
    "那么我们如何构造一个堆呢？（注意我们所说的堆是一个逻辑结构，我们算法实际上操作在存储结构上的比如链表和数组）也就是说任意给定一个数组，我们如何将这个调整数组元素的位置使得这个数组满足最大堆或者最小堆的性质。这里我们以最大堆为例。"
   ]
  },
  {
   "cell_type": "markdown",
   "metadata": {},
   "source": [
    "上面我们已经给出了一个Max_Heapify操作，假如该操作施加在一个三个元素的二叉树上，可以使得该二叉树满足最大堆的性质。如果我们对任意给定的二叉树（当然二叉树以链表或者数组的形式存储）的递归的施加该操作，就可以使得整个二叉树满足最大堆的性质。那么我们是从底部的叶子节点开始呢还是从顶部呢？。试想如果给你两个已经满足最大堆的二叉树，我们将这两个二叉树的跟节点作为新二叉树的左右节点，再再新二叉树的跟节点上施加Max_Heapify操作就得到了新的最大堆。所以我们首先要得到满足最大堆的子树，最底部的叶子节点可以看作只有一个节点的二叉树。可以看做他们已经满足了最大堆的性质，所以我们因该从倒数第二层的第一个有叶节点的节点（也就是最后一个节点的父节点）入手。下图是算法的描述（来源：算法导论）"
   ]
  },
  {
   "cell_type": "markdown",
   "metadata": {},
   "source": [
    "![Screen%20Shot%202020-04-23%20at%2010.37.53%20AM.png](attachment:Screen%20Shot%202020-04-23%20at%2010.37.53%20AM.png)"
   ]
  },
  {
   "cell_type": "markdown",
   "metadata": {},
   "source": [
    "### 1.5堆的应用"
   ]
  },
  {
   "cell_type": "markdown",
   "metadata": {},
   "source": [
    "### 1.5.1 堆排序"
   ]
  },
  {
   "cell_type": "markdown",
   "metadata": {},
   "source": [
    "见../theme_sort目录下的heap_sort文件。"
   ]
  },
  {
   "cell_type": "markdown",
   "metadata": {},
   "source": [
    "### 1.5.2 优先队列"
   ]
  },
  {
   "cell_type": "markdown",
   "metadata": {},
   "source": [
    "堆可以实现优先队列，优先队列通常使用在计算机内部的作业调度等场景。最大优先队列支持以下操作：<br>\n",
    "* 将x插入优先队列 Insert(A, x)\n",
    "    * 该操作的思想就是将x插入到堆最底层的最后一个节点然后在利用 Increase(A, i, k)操作来将x调整到合适的位置。\n",
    "* 返回最大关键字元素 Maximum(A)\n",
    "    * return A\\[1\\](假设根节点存储在下标1)\n",
    "\n",
    "* 返回并去除最大关键字元素 Extract_Maximun(A)\n",
    "    * 1.heap_size表示堆中的有效元素；<br>2.在抽取最大元素后我们需要使得剩下元素满足最大堆的性质，有点像最大堆排序的过程 ![Screen%20Shot%202020-04-23%20at%2010.29.21%20PM.png](attachment:Screen%20Shot%202020-04-23%20at%2010.29.21%20PM.png)\n",
    "\n",
    "* 将某元素的关键字增大到k Increase(A, i, k)\n",
    "    * 1.新值k>A\\[i\\] <br> 2. 增大某个元素那么以该节点为根节点的树依然满足堆的性质，他的父节点以及祖先节点可能不能满足堆的性质。<br>\n",
    "    ![Screen%20Shot%202020-04-23%20at%2010.45.25%20PM.png](attachment:Screen%20Shot%202020-04-23%20at%2010.45.25%20PM.png)\n",
    "    ![Screen%20Shot%202020-04-23%20at%2010.45.36%20PM.png](attachment:Screen%20Shot%202020-04-23%20at%2010.45.36%20PM.png)\n",
    "\n",
    "当然除了最大优先队列也有最小优先队列，我们这里以最大优先队列来举例，最小优先队列类似。至于该数据结构操作的具体代码，等我们遇到了相关问题了来实现。\n"
   ]
  },
  {
   "cell_type": "code",
   "execution_count": null,
   "metadata": {},
   "outputs": [],
   "source": []
  }
 ],
 "metadata": {
  "kernelspec": {
   "display_name": "Python 3",
   "language": "python",
   "name": "python3"
  },
  "language_info": {
   "codemirror_mode": {
    "name": "ipython",
    "version": 3
   },
   "file_extension": ".py",
   "mimetype": "text/x-python",
   "name": "python",
   "nbconvert_exporter": "python",
   "pygments_lexer": "ipython3",
   "version": "3.6.8"
  }
 },
 "nbformat": 4,
 "nbformat_minor": 2
}
