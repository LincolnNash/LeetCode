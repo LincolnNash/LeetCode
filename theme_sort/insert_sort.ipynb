{
 "cells": [
  {
   "cell_type": "markdown",
   "metadata": {},
   "source": [
    "## 插入排序"
   ]
  },
  {
   "cell_type": "code",
   "execution_count": 13,
   "metadata": {},
   "outputs": [],
   "source": [
    "def insertSort(nums):\n",
    "    for i in range(1, len(nums)):\n",
    "        k = i\n",
    "        while(k>0):\n",
    "            if nums[k] < nums[k-1]:\n",
    "                temp = nums[k-1]\n",
    "                nums[k-1] = nums[k]\n",
    "                nums[k] = temp\n",
    "                k = k-1\n",
    "            else:\n",
    "                break\n",
    "    return nums"
   ]
  },
  {
   "cell_type": "code",
   "execution_count": 20,
   "metadata": {},
   "outputs": [
    {
     "name": "stdout",
     "output_type": "stream",
     "text": [
      "[1, 2, 2, 6, 7, 9]\n"
     ]
    }
   ],
   "source": [
    "print(insertSort([1,2,6,2,7,9]))"
   ]
  }
 ],
 "metadata": {
  "kernelspec": {
   "display_name": "Python 3",
   "language": "python",
   "name": "python3"
  },
  "language_info": {
   "codemirror_mode": {
    "name": "ipython",
    "version": 3
   },
   "file_extension": ".py",
   "mimetype": "text/x-python",
   "name": "python",
   "nbconvert_exporter": "python",
   "pygments_lexer": "ipython3",
   "version": "3.6.8"
  }
 },
 "nbformat": 4,
 "nbformat_minor": 2
}
