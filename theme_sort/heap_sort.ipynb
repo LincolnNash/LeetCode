{
 "cells": [
  {
   "cell_type": "markdown",
   "metadata": {},
   "source": [
    "# 堆排序"
   ]
  },
  {
   "cell_type": "markdown",
   "metadata": {},
   "source": [
    "对于堆数据结构的介绍可以看../theme_datastructure文件夹下面的heap文件。对于理解堆排序算法很有帮组。这里我们将实现Max_Heapify操作和建堆过程以及堆排序算法"
   ]
  },
  {
   "cell_type": "markdown",
   "metadata": {},
   "source": [
    "### 1.Max_Heapify操作"
   ]
  },
  {
   "cell_type": "code",
   "execution_count": 1,
   "metadata": {},
   "outputs": [],
   "source": [
    "def Max_Heapify(A,i,valid_size):\n",
    "    #左右孩子索引\n",
    "    l_ind = 2*i+1\n",
    "    r_ind = 2*i+2\n",
    "    #比较得到跟节点和左右孩子节点值最大的节点的索引\n",
    "    largest = i\n",
    "    if l_ind<valid_size and A[i]<A[l_ind]:\n",
    "        largest = l_ind\n",
    "    if r_ind<valid_size and A[largest]<A[r_ind]:\n",
    "        largest = r_ind\n",
    "    #若左右孩子其中一个大于父节点执行下面操作\n",
    "    if largest!=i:\n",
    "        #值最大节点作为父节点\n",
    "        temp = A[i]\n",
    "        A[i] = A[largest]\n",
    "        A[largest]=temp\n",
    "        #交换后不能保证子树也满足最大堆性质，所以递归执行该操作\n",
    "        Max_Heapify(A, largest, valid_size=valid_size)"
   ]
  },
  {
   "cell_type": "markdown",
   "metadata": {},
   "source": [
    "* valid_size变量使得可以对数组的任意部分序列做Max_Heapfiy操作\n",
    "* 我们不需要判断l_ind、r_ind是否越界，如果越界后面的操作不会执行。\n",
    "* 递归操作Max_Heapify(A, largest)不能放到，if语句外，因为只有发生了交换（不满足最大堆的性质）的时候才需要递归调用；再者如果放到if语句外，会发生栈溢出的，因为会不断的调用自身而没有递归终止条件。"
   ]
  },
  {
   "cell_type": "markdown",
   "metadata": {},
   "source": [
    "### 2. Build_Max_Heap操作"
   ]
  },
  {
   "cell_type": "code",
   "execution_count": 2,
   "metadata": {},
   "outputs": [],
   "source": [
    "import math\n",
    "def Build_Max_Heap(A):\n",
    "    for i in reversed(range(math.ceil((len(A)-2)/2))):\n",
    "        Max_Heapify(A,i,len(A))"
   ]
  },
  {
   "cell_type": "markdown",
   "metadata": {},
   "source": [
    "* 最后一个节点(len(A)-1)\n",
    "* 从最后一个节点的父节点开始math.ceil(((len(A)-1)-1)/2)"
   ]
  },
  {
   "cell_type": "markdown",
   "metadata": {},
   "source": [
    "测试一下："
   ]
  },
  {
   "cell_type": "code",
   "execution_count": 3,
   "metadata": {},
   "outputs": [
    {
     "name": "stdout",
     "output_type": "stream",
     "text": [
      "[5, 4, 3, 1, 2]\n"
     ]
    }
   ],
   "source": [
    "a = [1,2,3,4,5]\n",
    "Build_Max_Heap(a)\n",
    "print(a)\n",
    "#     5\n",
    "#    / \\\n",
    "#   4   3\n",
    "#  / \\\n",
    "# 1  2"
   ]
  },
  {
   "cell_type": "markdown",
   "metadata": {},
   "source": [
    "### 3.堆排序"
   ]
  },
  {
   "cell_type": "markdown",
   "metadata": {},
   "source": [
    "最大堆的最大元素永远在根节点即A\\[0\\]。我们将A\\[0\\]和A\\[len(A)-1\\]交换，然后A\\[0:len(A)-1\\]是一个待Max_Heapify(A,0,len(A)-1)操作的最大堆。重复这样的操作就实现了原址堆排序算法。具体操如下代码："
   ]
  },
  {
   "cell_type": "code",
   "execution_count": 6,
   "metadata": {},
   "outputs": [],
   "source": [
    "def heap_sort(A):\n",
    "    #建堆\n",
    "    Build_Max_Heap(A)\n",
    "    # 将最大节点值和末尾节点交换，并将数组的部分保持最大堆性质\n",
    "    for i in reversed(range(1,len(A))):\n",
    "        temp = A[0]\n",
    "        A[0] = A[i]\n",
    "        A[i] = temp\n",
    "        Max_Heapify(A,0,i)"
   ]
  },
  {
   "cell_type": "markdown",
   "metadata": {},
   "source": [
    "测试一下："
   ]
  },
  {
   "cell_type": "code",
   "execution_count": 7,
   "metadata": {},
   "outputs": [
    {
     "name": "stdout",
     "output_type": "stream",
     "text": [
      "[1, 2, 3, 4, 5]\n"
     ]
    }
   ],
   "source": [
    "b = [5,2,3,4,1]\n",
    "heap_sort(b)\n",
    "print(b)"
   ]
  },
  {
   "cell_type": "code",
   "execution_count": null,
   "metadata": {},
   "outputs": [],
   "source": []
  }
 ],
 "metadata": {
  "kernelspec": {
   "display_name": "Python 3",
   "language": "python",
   "name": "python3"
  },
  "language_info": {
   "codemirror_mode": {
    "name": "ipython",
    "version": 3
   },
   "file_extension": ".py",
   "mimetype": "text/x-python",
   "name": "python",
   "nbconvert_exporter": "python",
   "pygments_lexer": "ipython3",
   "version": "3.6.8"
  }
 },
 "nbformat": 4,
 "nbformat_minor": 2
}
